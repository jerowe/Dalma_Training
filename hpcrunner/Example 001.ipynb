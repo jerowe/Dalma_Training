{
 "cells": [
  {
   "cell_type": "markdown",
   "metadata": {},
   "source": [
    "## HPC Runner Submission"
   ]
  },
  {
   "cell_type": "markdown",
   "metadata": {},
   "source": [
    "### Submission file"
   ]
  },
  {
   "cell_type": "code",
   "execution_count": 12,
   "metadata": {
    "collapsed": false
   },
   "outputs": [
    {
     "name": "stdout",
     "output_type": "stream",
     "text": [
      "#HPC jobname=preprocess\n",
      "#HPC commands_per_node=1\n",
      "#HPC walltime=00:00:30\n",
      "#HPC module=gencore/1 gencore_dev\n",
      "echo \"preprocess sample1\" && sleep 30 \n",
      "echo \"preprocess sample2\" && sleep 30 \n",
      "echo \"preprocess sample3\" && sleep 30\n",
      "echo \"preprocess sample4\" && sleep 30\n",
      "echo \"preprocess sample5\" && sleep 30\n",
      "echo \"preprocess sample6\" && sleep 30\n"
     ]
    }
   ],
   "source": [
    "%%bash\n",
    "\n",
    "cat example_001/preprocess.sh"
   ]
  },
  {
   "cell_type": "markdown",
   "metadata": {},
   "source": [
    "### Submit to Slurm"
   ]
  },
  {
   "cell_type": "markdown",
   "metadata": {},
   "source": [
    "```\n",
    "hpcrunner.pl submit_jobs --infile preprocess.sh\n",
    "```"
   ]
  },
  {
   "cell_type": "markdown",
   "metadata": {},
   "source": [
    "```\n",
    "[2016/11/03 08:50:03] Beginning to submit jobs to the scheduler \n",
    "[2016/11/03 08:50:03] Schedule is preprocess \n",
    "[2016/11/03 08:50:03] Submitting all preprocess job types \n",
    "[2016/11/03 08:50:04] Submitted batch job 23162\n",
    " \n",
    "[2016/11/03 08:50:04] Submited job /scratch/gencore/nov_dalma_training/example_001/hpc-runner/scratch/001_preprocess.sh\n",
    "        With Slurm jobid 23162 \n",
    "[2016/11/03 08:50:04] There are 6 batches for job type preprocess \n",
    "```"
   ]
  },
  {
   "cell_type": "markdown",
   "metadata": {},
   "source": [
    "## Directory Structure"
   ]
  },
  {
   "cell_type": "code",
   "execution_count": 7,
   "metadata": {
    "collapsed": false
   },
   "outputs": [
    {
     "name": "stdout",
     "output_type": "stream",
     "text": [
      "example_001\n",
      "├── hpc-runner\n",
      "│   ├── logs\n",
      "│   │   ├── 2016-11-03-001_preprocess\n",
      "│   │   │   ├── 2016-11-03-CMD_001-PID_13774.md\n",
      "│   │   │   ├── 2016-11-03-CMD_002-PID_13778.md\n",
      "│   │   │   ├── 2016-11-03-CMD_003-PID_13776.md\n",
      "│   │   │   ├── 2016-11-03-CMD_004-PID_16555.md\n",
      "│   │   │   ├── 2016-11-03-CMD_005-PID_16553.md\n",
      "│   │   │   ├── 2016-11-03-CMD_006-PID_16551.md\n",
      "│   │   │   └── MAIN_2016-11-03.log\n",
      "│   │   └── 2016-11-03-hpcrunner_logs\n",
      "│   │       ├── 001_preprocess.log\n",
      "│   │       └── 001-process_table.md\n",
      "│   └── scratch\n",
      "│       ├── 001_preprocess_001.in\n",
      "│       ├── 001_preprocess_002.in\n",
      "│       ├── 001_preprocess_003.in\n",
      "│       ├── 001_preprocess_004.in\n",
      "│       ├── 001_preprocess_005.in\n",
      "│       ├── 001_preprocess_006.in\n",
      "│       └── 001_preprocess.sh\n",
      "└── preprocess.sh\n",
      "\n",
      "5 directories, 17 files\n"
     ]
    }
   ],
   "source": [
    "%%bash\n",
    "\n",
    "tree example_001"
   ]
  },
  {
   "cell_type": "markdown",
   "metadata": {},
   "source": [
    "## Task Log Output"
   ]
  },
  {
   "cell_type": "markdown",
   "metadata": {},
   "source": [
    "Each individual task gets its own output file. The structure is date of submission, jobtype, date of executition, task count, and processID."
   ]
  },
  {
   "cell_type": "code",
   "execution_count": 9,
   "metadata": {
    "collapsed": false
   },
   "outputs": [
    {
     "name": "stdout",
     "output_type": "stream",
     "text": [
      "2016/11/03 08:50:11: INFO Starting Job: 1 \n",
      "Cmd is echo \"preprocess sample1\" && sleep 30 \n",
      " 2016/11/03 08:50:11: INFO preprocess sample1\n",
      " 2016/11/03 08:50:41: INFO Finishing job 1 with ExitCode 0\n",
      " 2016/11/03 08:50:41: INFO Total execution time 0 years, 00 months, 0 days, 00 hours, 00 minutes, 30 seconds\n",
      " "
     ]
    }
   ],
   "source": [
    "%%bash\n",
    "\n",
    "cat example_001/hpc-runner/logs/2016-11-03-001_preprocess/2016-11-03-CMD_001-PID_13774.md"
   ]
  },
  {
   "cell_type": "markdown",
   "metadata": {},
   "source": [
    "## Slurm Log Output"
   ]
  },
  {
   "cell_type": "markdown",
   "metadata": {},
   "source": [
    "Additionally, all output from the scheduler is logged. This is useful when debugging submissions. If, for instance, we had mistyped a module name, submitted to the wrong queue, or requested impossible resources, this would be recorded here."
   ]
  },
  {
   "cell_type": "code",
   "execution_count": 10,
   "metadata": {
    "collapsed": false
   },
   "outputs": [
    {
     "name": "stdout",
     "output_type": "stream",
     "text": [
      "Module 'gencore/1' is already loaded\n",
      "Module 'gencore/1' is already loaded\n",
      "Module 'gencore/1' is already loaded\n",
      "Module 'gencore/1' is already loadedModule 'gencore/1' is already loadedModule 'gencore/1' is already loaded\n",
      "\n",
      "\n"
     ]
    }
   ],
   "source": [
    "%%bash\n",
    "\n",
    "cat example_001/hpc-runner/logs/2016-11-03-hpcrunner_logs/001_preprocess.log"
   ]
  },
  {
   "cell_type": "markdown",
   "metadata": {},
   "source": [
    "## Process Table Output"
   ]
  },
  {
   "cell_type": "markdown",
   "metadata": {},
   "source": [
    "The process table is a table for the whole job. It records version ( more on this later), the Slurm scheduler ID, the Slurm jobname, any task tags, and process pid, the exit code and the duration.\n",
    "\n",
    "It is highly recommended to record this table in a project management tool."
   ]
  },
  {
   "cell_type": "code",
   "execution_count": 14,
   "metadata": {
    "collapsed": false
   },
   "outputs": [
    {
     "name": "stdout",
     "output_type": "stream",
     "text": [
      "example_001/hpc-runner/logs/2016-11-03-hpcrunner_logs/001-process_table.md\n"
     ]
    }
   ],
   "source": [
    "%%bash\n",
    "\n",
    "ls example_001/hpc-runner/logs/2016-11-03-hpcrunner_logs/001-process_table.md"
   ]
  },
  {
   "cell_type": "markdown",
   "metadata": {},
   "source": [
    "|Version | Scheduler Id | Jobname | Task Tags | ProcessID | ExitCode | Duration |\n",
    "| ---     | ---         | ---      | ---       |  ---     | ---      | --- |\n",
    "|0.0|23162|001_preprocess||16551|0|0 years, 00 months, 0 days, 00 hours, 00 minutes, 30 seconds|\n",
    "|0.0|23167|001_preprocess||16553|0|0 years, 00 months, 0 days, 00 hours, 00 minutes, 30 seconds|\n",
    "|0.0|23163|001_preprocess||13774|0|0 years, 00 months, 0 days, 00 hours, 00 minutes, 30 seconds|\n",
    "|0.0|23166|001_preprocess||16555|0|0 years, 00 months, 0 days, 00 hours, 00 minutes, 30 seconds|\n",
    "|0.0|23165|001_preprocess||13776|0|0 years, 00 months, 0 days, 00 hours, 00 minutes, 30 seconds|\n",
    "|0.0|23164|001_preprocess||13778|0|0 years, 00 months, 0 days, 00 hours, 00 minutes, 30 seconds|"
   ]
  },
  {
   "cell_type": "code",
   "execution_count": null,
   "metadata": {
    "collapsed": true
   },
   "outputs": [],
   "source": []
  }
 ],
 "metadata": {
  "kernelspec": {
   "display_name": "Python 3",
   "language": "python",
   "name": "python3"
  },
  "language_info": {
   "codemirror_mode": {
    "name": "ipython",
    "version": 3
   },
   "file_extension": ".py",
   "mimetype": "text/x-python",
   "name": "python",
   "nbconvert_exporter": "python",
   "pygments_lexer": "ipython3",
   "version": "3.5.2"
  }
 },
 "nbformat": 4,
 "nbformat_minor": 0
}
